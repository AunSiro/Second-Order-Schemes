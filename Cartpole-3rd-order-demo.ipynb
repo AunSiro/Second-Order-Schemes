{
 "cells": [
  {
   "cell_type": "markdown",
   "id": "bdbbb522",
   "metadata": {},
   "source": [
    "# Cart-pole swing-up problem: interactive demonstration\n",
    "\n",
    "Hello and welcome. This is a Jupyter Notebook, a kind of document that can alternate between static content, like text and images, and executable cells of code.\n",
    "\n",
    "This document ilustrates the 3rd order Cart-pole swing-up test case of the paper: \"Collocation Methods for Second and Higher Order Systems\", submitted to Autonomous Robots in 2023.\n",
    "\n",
    "In order to run the cells of code, you can select the cell and clic on the small \"play\" button in the bar above or press shift+enter. Alternatively, you can select the option \"run -> run all cells\" in order to run all the code in order. Beware that some cells can take several minutes!\n",
    "\n",
    "All of the code used in this example is open-source and free to use.\n",
    "\n",
    "[SymPy](https://www.sympy.org/en/index.html) is used for Symbolic formulation and manipulation of the problem.\n",
    "\n",
    "[Numpy](https://numpy.org/) is used for numerical arrays and operations.\n",
    "\n",
    "[CasADI](https://web.casadi.org/) is used for optimization.\n",
    "\n",
    "[Chords](https://github.com/AunSiro/optibot) is the name of the package where we are compiling our code. We aim to produce a toolbox for Optimal Control Problems, focused on robotics, including a high level, readable and clean interface between the prior three packages.\n",
    "\n",
    "We will use Chords heavily on this example. If you wanted to see a more detailed exposition of the algorithm and schemes, check the 2nd order [Cart-Pole Demo](https://mybinder.org/v2/gh/AunSiro/Second-Order-Schemes/HEAD?labpath=Cartpole-demo.ipynb)."
   ]
  },
  {
   "cell_type": "markdown",
   "id": "6c0ef9a4",
   "metadata": {},
   "source": [
    "## Package imports"
   ]
  },
  {
   "cell_type": "code",
   "execution_count": null,
   "id": "0e67f796",
   "metadata": {},
   "outputs": [],
   "source": [
    "import numpy as np\n",
    "import matplotlib.pyplot as plt"
   ]
  },
  {
   "cell_type": "code",
   "execution_count": null,
   "id": "1f5e660b",
   "metadata": {},
   "outputs": [],
   "source": [
    "from sympy import (symbols, simplify, Matrix)\n",
    "from sympy.physics.mechanics import dynamicsymbols, init_vprinting\n",
    "from sympy.physics.mechanics import Lagrangian, ReferenceFrame, Point, Particle,inertia, RigidBody"
   ]
  },
  {
   "cell_type": "code",
   "execution_count": null,
   "id": "6d56bf29",
   "metadata": {},
   "outputs": [],
   "source": [
    "from chords.symbolic import lagrange, diff_to_symb, SimpLagrangesMethod\n",
    "from chords.numpy import unpack"
   ]
  },
  {
   "cell_type": "code",
   "execution_count": null,
   "id": "2385886a",
   "metadata": {},
   "outputs": [],
   "source": [
    "from functools import lru_cache"
   ]
  },
  {
   "cell_type": "code",
   "execution_count": null,
   "id": "d85c7d64",
   "metadata": {},
   "outputs": [],
   "source": [
    "#SymPy vector-like latex rendering inizialization:\n",
    "\n",
    "init_vprinting()"
   ]
  },
  {
   "cell_type": "markdown",
   "id": "fccbc8e5",
   "metadata": {},
   "source": [
    "## Symbolic Problem Modelling\n",
    "\n",
    "The first step is to model our problem taking advantage of the high level object syntax of the mechanics module in SymPy"
   ]
  },
  {
   "cell_type": "code",
   "execution_count": null,
   "id": "048168f4",
   "metadata": {},
   "outputs": [],
   "source": [
    "# Creating symbols and dynamic symbols\n",
    "\n",
    "m0, m1, l, t, g = symbols('m_0 m_1 l t g')\n",
    "q0, q1 = dynamicsymbols('q_0 q_1')"
   ]
  },
  {
   "cell_type": "code",
   "execution_count": null,
   "id": "10cddfb9",
   "metadata": {},
   "outputs": [],
   "source": [
    "# Definition of the physics system\n",
    "\n",
    "N_in = ReferenceFrame('N')\n",
    "pN = Point('N*')\n",
    "pN.set_vel(N_in, 0)\n",
    "\n",
    "P0 = pN.locatenew('P0', q0 * N_in.x)\n",
    "P0.set_vel(N_in, q0.diff(t) * N_in.x)\n",
    "cart_part = Particle('CartPart', P0, m0)\n",
    "cart_part.potential_energy = m0 * g * P0.pos_from(pN).dot(N_in.y)\n",
    "\n",
    "N1 = N_in.orientnew('N1', 'Axis', [q1, N_in.z])\n",
    "P1 = P0.locatenew('P1', -l*N1.y)\n",
    "P1.set_vel(N_in, P1.pos_from(pN).dt(N_in))\n",
    "\n",
    "pend_part = Particle('PendPart', P1, m1)\n",
    "pend_part.potential_energy = m1 * g * P1.pos_from(pN).dot(N_in.y)"
   ]
  },
  {
   "cell_type": "code",
   "execution_count": null,
   "id": "dfdc5ac6",
   "metadata": {},
   "outputs": [],
   "source": [
    "#Computing the Lagrangian\n",
    "\n",
    "Lag_simp = Lagrangian(N_in, cart_part, pend_part)\n",
    "Lag_simp"
   ]
  },
  {
   "cell_type": "code",
   "execution_count": null,
   "id": "7c400ba4",
   "metadata": {},
   "outputs": [],
   "source": [
    "# Defining the control forces and external actions, and applying them to our system\n",
    "\n",
    "u0, u1 = dynamicsymbols('u_0, u_1')\n",
    "FL = [(P0, u0 * N_in.x)]#, (N1, u1 * N_in.z)]\n",
    "LM_small = SimpLagrangesMethod(Lag_simp, [q0, q1], forcelist=FL, frame=N_in)"
   ]
  },
  {
   "cell_type": "code",
   "execution_count": null,
   "id": "aabf5955",
   "metadata": {},
   "outputs": [],
   "source": [
    "# Generating the dynamic equations\n",
    "\n",
    "LM_small.form_lagranges_equations()\n",
    "RHS_small = LM_small.rhs\n",
    "RHS_small"
   ]
  },
  {
   "cell_type": "code",
   "execution_count": null,
   "id": "89eac48c",
   "metadata": {},
   "outputs": [],
   "source": [
    "RHS_small.shape"
   ]
  },
  {
   "cell_type": "markdown",
   "id": "19f165c8",
   "metadata": {},
   "source": [
    "### Obtaining the 3rd order problem"
   ]
  },
  {
   "cell_type": "code",
   "execution_count": null,
   "id": "a629f1e2",
   "metadata": {},
   "outputs": [],
   "source": [
    "RHS_d = RHS_small.diff(t)\n",
    "RHS_d = simplify(RHS_d)"
   ]
  },
  {
   "cell_type": "code",
   "execution_count": null,
   "id": "fb3162c7",
   "metadata": {},
   "outputs": [],
   "source": [
    "RHS_d"
   ]
  },
  {
   "cell_type": "code",
   "execution_count": null,
   "id": "2735610e",
   "metadata": {},
   "outputs": [],
   "source": [
    "RHS_d_exp = RHS_small.copy()"
   ]
  },
  {
   "cell_type": "code",
   "execution_count": null,
   "id": "952d4efc",
   "metadata": {},
   "outputs": [],
   "source": [
    "RHS_d_exp = Matrix([RHS_small[i] for i in [0,1]]+[RHS_d[i] for i in range(4)])\n",
    "RHS_d_exp"
   ]
  },
  {
   "cell_type": "code",
   "execution_count": null,
   "id": "de86c3b3",
   "metadata": {},
   "outputs": [],
   "source": [
    "q2 = dynamicsymbols('q_2')\n",
    "q2d = q2.diff()\n",
    "q2dd = q2d.diff()"
   ]
  },
  {
   "cell_type": "code",
   "execution_count": null,
   "id": "3fb59e40",
   "metadata": {},
   "outputs": [],
   "source": [
    "RHS_d_w = RHS_d_exp.row_insert(2, Matrix([q2d]))\n",
    "RHS_d_w = RHS_d_w.row_insert(5, Matrix([q2dd]))\n",
    "RHS_d_w = RHS_d_w.row_insert(8, Matrix([u0.diff()]))\n",
    "RHS_d_w"
   ]
  },
  {
   "cell_type": "markdown",
   "id": "53d12698",
   "metadata": {},
   "source": [
    "### Casadi optimization: 2nd order system\n",
    "\n",
    "We will first solve the original 2nd order system. We have generated the system equations symbolicaly. Now, we translate them to CasADi objects in order to perform the optimization."
   ]
  },
  {
   "cell_type": "code",
   "execution_count": null,
   "id": "c37778e7",
   "metadata": {},
   "outputs": [],
   "source": [
    "from chords.util import (sch_to_lab, sch_to_color, sch_to_long_label, scheme_kwargs, oct_fig_size, set_fonts)\n",
    "set_fonts()"
   ]
  },
  {
   "cell_type": "code",
   "execution_count": null,
   "id": "61bd55bc",
   "metadata": {},
   "outputs": [],
   "source": [
    "#Numerical values of the paramenters\n",
    "\n",
    "m0_n, m1_n = [1., 0.3]\n",
    "l_n = 0.5\n",
    "g_n = 9.81\n",
    "params = [g_n, l_n, m0_n, m1_n]"
   ]
  },
  {
   "cell_type": "code",
   "execution_count": null,
   "id": "2a50c6b7",
   "metadata": {},
   "outputs": [],
   "source": [
    "from chords.opti import Opti_Problem\n",
    "import time\n",
    "from functools import lru_cache"
   ]
  },
  {
   "cell_type": "code",
   "execution_count": null,
   "id": "65f2c504",
   "metadata": {},
   "outputs": [],
   "source": [
    "@lru_cache(maxsize=None)\n",
    "def casadi_cartpole_prim(scheme, N, ini_guess='lin', solve_repetitions = 1, t_end = 2, verbose = False, silent = True):\n",
    "    _opti = Opti_Problem(\n",
    "        LM=LM_small,\n",
    "        params = params,\n",
    "        scheme = scheme,\n",
    "        ini_guess= ini_guess,\n",
    "        t_end = t_end,\n",
    "        verbose=verbose,\n",
    "        silent=silent,\n",
    "    )\n",
    "    _opti.dynamic_setup()\n",
    "    _opti.opti_setup(N)\n",
    "    _opti.initial_guess([0,0], [1,np.pi])\n",
    "    _opti.u_sq_cost()\n",
    "    _opti.apply_scheme()\n",
    "    opti = _opti.opti\n",
    "    X = _opti.opti_arrs['x']\n",
    "    U = _opti.opti_arrs['u']\n",
    "    X_s = _opti.opti_points['x_s']\n",
    "    X_e = _opti.opti_points['x_e']\n",
    "    N = _opti.N\n",
    "    if 'parab' in scheme:\n",
    "        U_c = _opti.opti_arrs['u_c']\n",
    "        \n",
    "   # Initial and final conditions\n",
    "    opti.subject_to(X_s.T == [0, 0, 0, 0])\n",
    "    opti.subject_to(X_e.T == [1, np.pi, 0, 0])\n",
    "    \n",
    "    # Appliying restrictions and action boundaries\n",
    "    u_m = 20\n",
    "    for ii in range(N):\n",
    "        if 'parab' in scheme:\n",
    "            opti.subject_to(opti.bounded(-u_m, U_c[ii,:] ,u_m))\n",
    "        opti.subject_to(opti.bounded(-u_m,U[ii,:],u_m))\n",
    "    opti.subject_to(opti.bounded(-u_m,U[-1, :],u_m))\n",
    "    \n",
    "    _opti.chrono_solve(solve_repetitions=solve_repetitions,)\n",
    "    return _opti.results"
   ]
  },
  {
   "cell_type": "code",
   "execution_count": null,
   "id": "90a002a7",
   "metadata": {},
   "outputs": [],
   "source": [
    "scheme ='hs_mod_parab'\n",
    "N = 25\n",
    "_res = casadi_cartpole_prim(scheme,N, 'lin', solve_repetitions=1,  silent=False, verbose=True)"
   ]
  },
  {
   "cell_type": "code",
   "execution_count": null,
   "id": "475e5b9d",
   "metadata": {},
   "outputs": [],
   "source": [
    "from chords.piecewise import interpolated_array\n",
    "plot_n = 1000\n",
    "t_interp = np.linspace(0, 2, plot_n)\n",
    "dt = (_res['t'][-1]-_res['t'][0])/N\n",
    "if 'parab' in scheme:\n",
    "    u_scheme = 'parab'\n",
    "    sch_param = {\n",
    "        'u_c':_res['u_c'],\n",
    "        \"x_dot_c\":_res['x_d_c'],\n",
    "        \"order\":3}\n",
    "elif 'hs' in scheme:\n",
    "    u_scheme = 'lin'\n",
    "    sch_param = {\"order\":3,\n",
    "        \"x_dot_c\":_res['x_d_c'],}\n",
    "else: \n",
    "    u_scheme = 'lin'\n",
    "    sch_param = {\"order\":3,}\n",
    "    \n",
    "x_interp_prim, u_interp_prim = interpolated_array(\n",
    "    X = _res['x'],\n",
    "    U = _res['u'],\n",
    "    h = dt,\n",
    "    t_array = t_interp,\n",
    "    params = params,\n",
    "    F=None,\n",
    "    X_dot=_res['x_d'],\n",
    "    scheme= scheme,\n",
    "    u_scheme=u_scheme,\n",
    "    scheme_params=sch_param,\n",
    ")\n",
    "q_interp_prim =x_interp_prim[:, :2]"
   ]
  },
  {
   "cell_type": "code",
   "execution_count": null,
   "id": "8be60efb",
   "metadata": {},
   "outputs": [],
   "source": [
    "plt.figure(figsize=[14,8])\n",
    "labels= ['q', 'theta']\n",
    "for ii in range(2):\n",
    "    plt.plot(t_interp, q_interp_prim[:,ii], c = 'grey')\n",
    "    plt.plot(_res['t'],_res['q'][:,ii], 'o', label = labels[ii])\n",
    "    if 'parab' in scheme:\n",
    "        plt.plot(_res['t_c'],_res['q_c'][:,ii], 'o', label = labels[ii] + '_c')\n",
    "plt.grid()\n",
    "plt.legend()"
   ]
  },
  {
   "cell_type": "code",
   "execution_count": null,
   "id": "1c3d368d",
   "metadata": {},
   "outputs": [],
   "source": [
    "plt.figure(figsize=[14,8])\n",
    "plt.plot(_res['t'],_res['u'][:], 'o', label = 'u')\n",
    "plt.plot(t_interp, u_interp_prim[:], c = 'grey')\n",
    "if 'parab' in scheme:\n",
    "        plt.plot(_res['t_c'],_res['u_c'][:], 'o', label = labels[ii] + ' u_c')\n",
    "plt.grid()\n",
    "plt.legend()"
   ]
  },
  {
   "cell_type": "markdown",
   "id": "ff19438a",
   "metadata": {},
   "source": [
    "### Casadi Optimization: 3rd order system\n",
    "\n",
    "Let's test our 3rd order system."
   ]
  },
  {
   "cell_type": "code",
   "execution_count": null,
   "id": "3cc88e5f",
   "metadata": {},
   "outputs": [],
   "source": [
    "from chords.casadi import implicit_dynamic_x_to_casadi_function"
   ]
  },
  {
   "cell_type": "code",
   "execution_count": null,
   "id": "c24aa15c",
   "metadata": {},
   "outputs": [],
   "source": [
    "x = dynamicsymbols('x_0:9')"
   ]
  },
  {
   "cell_type": "code",
   "execution_count": null,
   "id": "aa3ef44c",
   "metadata": {},
   "outputs": [],
   "source": [
    "x_d = [_i.diff() for _i in x]#symbols('\\dot{x}_0:4')"
   ]
  },
  {
   "cell_type": "code",
   "execution_count": null,
   "id": "a38dda02",
   "metadata": {},
   "outputs": [],
   "source": [
    "RHSx=RHS_d_w.subs([\n",
    "    [u0.diff(), u1],\n",
    "    [u0, x[8]],\n",
    "    [q0.diff(t,2), x[6]],\n",
    "    [q1.diff(t,2), x[7]],\n",
    "    [q2.diff(t,2), x[8]],\n",
    "    [q0.diff(t), x[3]],\n",
    "    [q1.diff(t), x[4]],\n",
    "    [q2.diff(t), x[5]],\n",
    "    [q0, x[0]],\n",
    "    [q1, x[1]],\n",
    "    [q2, x[2]]\n",
    "])"
   ]
  },
  {
   "cell_type": "markdown",
   "id": "0914900a",
   "metadata": {},
   "source": [
    "RHS_small,RHSx"
   ]
  },
  {
   "cell_type": "code",
   "execution_count": null,
   "id": "42c57a5e",
   "metadata": {},
   "outputs": [],
   "source": [
    "x_d_mat = Matrix(x_d)"
   ]
  },
  {
   "cell_type": "code",
   "execution_count": null,
   "id": "3ea7620a",
   "metadata": {},
   "outputs": [],
   "source": [
    "impl_D = x_d_mat-RHSx\n",
    "impl_D"
   ]
  },
  {
   "cell_type": "code",
   "execution_count": null,
   "id": "967397c8",
   "metadata": {
    "scrolled": true
   },
   "outputs": [],
   "source": [
    "imp_F_x_cas = implicit_dynamic_x_to_casadi_function(impl_D, x, verbose=True)\n",
    "imp_F_x_cas"
   ]
  },
  {
   "cell_type": "code",
   "execution_count": null,
   "id": "cd140ab9",
   "metadata": {},
   "outputs": [],
   "source": [
    "from chords.piecewise import interpolated_array, interpolated_array_derivative, reduce_F, hs_accel_restr\n",
    "from chords.analysis import dynamic_error\n",
    "from chords.numpy import RHS2numpy, Sym2Fx\n",
    "from chords.casadi import rhs_to_casadi_function\n",
    "import casadi as cas"
   ]
  },
  {
   "cell_type": "code",
   "execution_count": null,
   "id": "a2e2a802",
   "metadata": {
    "scrolled": false
   },
   "outputs": [],
   "source": [
    "F_nump = RHS2numpy(RHS_small, 2)"
   ]
  },
  {
   "cell_type": "markdown",
   "id": "cdbb615e",
   "metadata": {
    "scrolled": false
   },
   "source": [
    "F_nump_w = RHS2numpy(RHSx, 2)"
   ]
  },
  {
   "cell_type": "code",
   "execution_count": null,
   "id": "0e5298fc",
   "metadata": {},
   "outputs": [],
   "source": [
    "G_nump = reduce_F(F_nump)"
   ]
  },
  {
   "cell_type": "code",
   "execution_count": null,
   "id": "949d2537",
   "metadata": {},
   "outputs": [],
   "source": [
    "F_nump_w = Sym2Fx(RHSx, x, None, verbose=True)"
   ]
  },
  {
   "cell_type": "code",
   "execution_count": null,
   "id": "da694d28",
   "metadata": {},
   "outputs": [],
   "source": [
    "F_cas = rhs_to_casadi_function(RHS_small, 2)"
   ]
  },
  {
   "cell_type": "code",
   "execution_count": null,
   "id": "a4f4bc09",
   "metadata": {},
   "outputs": [],
   "source": [
    "G_cas = reduce_F(F_cas, mode='casadi')"
   ]
  },
  {
   "cell_type": "markdown",
   "id": "84e63e61",
   "metadata": {},
   "source": [
    "def initial_cond_g(_op):\n",
    "    X_s = _op.opti_points['x_s']\n",
    "    opti = _op.opti\n",
    "    a = X_s[:,6:8]\n",
    "    q = X_s[:,:2]\n",
    "    v = X_s[:,3:5]\n",
    "    u = X_s[8]\n",
    "    x = cas.horzcat(q,v)\n",
    "    f = F_cas(x, u, params)\n",
    "    g = f[:, 2:]\n",
    "    opti.subject_to(a == g)"
   ]
  },
  {
   "cell_type": "code",
   "execution_count": null,
   "id": "140ec329",
   "metadata": {},
   "outputs": [],
   "source": [
    "def initial_cond_g(_op):\n",
    "    X_s = _op.opti_points['x_s']\n",
    "    opti = _op.opti\n",
    "    a = X_s[:,6:8]\n",
    "    q = X_s[:,:2]\n",
    "    v = X_s[:,3:5]\n",
    "    u = X_s[:,8]\n",
    "    g = G_cas(q, v, u, params)\n",
    "    opti.subject_to(a == g)"
   ]
  },
  {
   "cell_type": "code",
   "execution_count": null,
   "id": "96b6fbab",
   "metadata": {},
   "outputs": [],
   "source": [
    "@lru_cache(maxsize=None)\n",
    "def casadi_cartpole_w(scheme, N, ini_guess='lin', solve_repetitions = 1, t_end = 2, verbose = False, silent = True):\n",
    "    _opti = Opti_Problem(\n",
    "        LM=imp_F_x_cas,\n",
    "        params = params,\n",
    "        scheme = scheme,\n",
    "        ini_guess= ini_guess,\n",
    "        t_end = t_end,\n",
    "        verbose=verbose,\n",
    "        silent=silent,\n",
    "    )\n",
    "\n",
    "\n",
    "    _opti.dynamic_setup('f_x_impl', 3, 1, order=3)\n",
    "    _opti.opti_setup(N)\n",
    "    _opti.initial_guess([0,0,0], [1,np.pi,0])\n",
    "    #_opti.sq_cost(_opti.opti_arrs['x'][:,8], _opti.opti_arrs['x_c'][:,8])\n",
    "    _opti.u_sq_cost()\n",
    "    _opti.apply_scheme()\n",
    "\n",
    "\n",
    "    opti = _opti.opti\n",
    "    X = _opti.opti_arrs['x']\n",
    "    U = _opti.opti_arrs['u']\n",
    "    X_s = _opti.opti_points['x_s']\n",
    "    X_e = _opti.opti_points['x_e']\n",
    "    if 'parab' in scheme:\n",
    "        U_c = _opti.opti_arrs['u_c']\n",
    "\n",
    "    Q_s = X_s[:,:2]\n",
    "    V_s = X_s[:,3:5]\n",
    "    Q_e = X_e[:,:2]\n",
    "    V_e = X_e[:,3:5]\n",
    "\n",
    "    # Initial and final conditions\n",
    "    opti.subject_to(Q_s.T == [0, 0])\n",
    "    opti.subject_to(Q_e.T == [1, np.pi])\n",
    "    opti.subject_to(V_s.T == [0, 0])\n",
    "    opti.subject_to(V_e.T == [0, 0])\n",
    "    initial_cond_g(_opti)\n",
    "\n",
    "    # Appliying restrictions and action boundaries\n",
    "    u_m = 100\n",
    "    for ii in range(N):\n",
    "        if 'parab' in scheme:\n",
    "            opti.subject_to(opti.bounded(-u_m, U_c[ii,:] ,u_m))\n",
    "        opti.subject_to(opti.bounded(-u_m,U[ii,:],u_m))\n",
    "    opti.subject_to(opti.bounded(-u_m,U[-1, :],u_m))\n",
    "\n",
    "    _opti.chrono_solve(solve_repetitions=solve_repetitions,)\n",
    "\n",
    "    return _opti.results"
   ]
  },
  {
   "cell_type": "code",
   "execution_count": null,
   "id": "0784b670",
   "metadata": {},
   "outputs": [],
   "source": [
    "N = 25\n",
    "scheme = 'hs_parab' #you can change the example scheme here.\n",
    "\n",
    "_res = casadi_cartpole_w(\n",
    "    scheme,\n",
    "    N,\n",
    "    ini_guess='lin',\n",
    "    solve_repetitions = 1,\n",
    "    t_end = 2,\n",
    "    verbose = True,\n",
    "    silent = False)"
   ]
  },
  {
   "cell_type": "markdown",
   "id": "a07cd90c",
   "metadata": {},
   "source": [
    "## Optimization results\n",
    "\n",
    "We will plot the results of the optimization"
   ]
  },
  {
   "cell_type": "code",
   "execution_count": null,
   "id": "8c2f5e69",
   "metadata": {},
   "outputs": [],
   "source": [
    "plot_n = 1000\n",
    "t_interp = np.linspace(0, 2, plot_n)\n",
    "marker_size = 5\n",
    "dt = (_res['t'][-1]-_res['t'][0])/N\n",
    "\n",
    "if 'parab' in scheme:\n",
    "    u_scheme = 'parab'\n",
    "    sch_param = {\n",
    "        'u_c':_res['u_c'],\n",
    "        \"x_dot_c\":_res['x_d_c'],\n",
    "        \"order\":3}\n",
    "elif 'hs' in scheme:\n",
    "    u_scheme = 'lin'\n",
    "    sch_param = {\"order\":3,\n",
    "        \"x_dot_c\":_res['x_d_c'],}\n",
    "else: \n",
    "    u_scheme = 'lin'\n",
    "    sch_param = {\"order\":3,}\n",
    "x_interp, u_interp = interpolated_array(\n",
    "    X = _res['x'],\n",
    "    U = _res['u'],\n",
    "    h = dt,\n",
    "    t_array = t_interp,\n",
    "    params = params,\n",
    "    F=None,\n",
    "    X_dot=_res['x_d'],\n",
    "    scheme= scheme,\n",
    "    u_scheme=u_scheme,\n",
    "    scheme_params=sch_param,\n",
    ")\n",
    "x_d_interp = interpolated_array_derivative(\n",
    "    X = _res['x'],\n",
    "    U = _res['u'],\n",
    "    h = dt,\n",
    "    t_array = t_interp,\n",
    "    params = params,\n",
    "    F=None,\n",
    "    X_dot=_res['x_d'],\n",
    "    scheme= scheme,\n",
    "    order=1,\n",
    "    scheme_params=sch_param,)\n",
    "\n",
    "q_dd_interp = interpolated_array_derivative(\n",
    "    X = _res['x'],\n",
    "    U = _res['u'],\n",
    "    h = dt,\n",
    "    t_array = t_interp,\n",
    "    params = params,\n",
    "    F=None,\n",
    "    X_dot=_res['x_d'],\n",
    "    scheme= scheme,\n",
    "    order=2,\n",
    "    scheme_params=sch_param,)[:, :3]\n",
    "\n",
    "q_ddd_interp = interpolated_array_derivative(\n",
    "    X = _res['x'],\n",
    "    U = _res['u'],\n",
    "    h = dt,\n",
    "    t_array = t_interp,\n",
    "    params = params,\n",
    "    F=None,\n",
    "    X_dot=_res['x_d'],\n",
    "    scheme= scheme,\n",
    "    order=3,\n",
    "    scheme_params=sch_param,)[:, :3]\n",
    "\n",
    "q_interp =x_interp[:, :3]\n",
    "v_interp =x_interp[:, 3:6]\n",
    "a_interp =x_interp[:, 6:]\n",
    "q_d_interp = x_d_interp[:, :3]\n",
    "j_interp =x_d_interp[:, 6:]"
   ]
  },
  {
   "cell_type": "code",
   "execution_count": null,
   "id": "272fdab6",
   "metadata": {},
   "outputs": [],
   "source": [
    "plt.figure(figsize=[14,8])\n",
    "labels= ['q', 'theta']\n",
    "for ii in range(2):\n",
    "    plt.plot(t_interp, q_interp[:,ii], c = 'grey')\n",
    "    plt.plot(_res['t'],_res['q'][:,ii], 'o', ms =marker_size, label = labels[ii])\n",
    "    if 'parab' in scheme: \n",
    "        plt.plot(_res['t_c'],_res['q_c'][:,ii], 'o', ms =marker_size, label = labels[ii] + '_c')\n",
    "plt.grid()\n",
    "plt.legend()\n",
    "plt.title('q and theta ')"
   ]
  },
  {
   "cell_type": "code",
   "execution_count": null,
   "id": "584ff24a",
   "metadata": {},
   "outputs": [],
   "source": [
    "plt.figure(figsize=[14,8])\n",
    "labels= ['q_vel', 'theta_vel']\n",
    "for ii in range(2):\n",
    "    plt.plot(t_interp, v_interp[:,ii], c = 'grey')\n",
    "    plt.plot(_res['t'],_res['v'][:,ii], 'o', ms =marker_size, label = labels[ii])\n",
    "    if 'parab' in scheme:\n",
    "        plt.plot(_res['t_c'],_res['v_c'][:,ii],  'o', ms =marker_size, label = labels[ii] + '_c')\n",
    "plt.grid()\n",
    "plt.legend()\n",
    "plt.title('q and theta velocities in X')"
   ]
  },
  {
   "cell_type": "code",
   "execution_count": null,
   "id": "5a945872",
   "metadata": {},
   "outputs": [],
   "source": [
    "plt.figure(figsize=[14,8])\n",
    "labels= ['q_acc', 'theta_acc']\n",
    "for ii in range(2):\n",
    "    plt.plot(t_interp, a_interp[:,ii], c = 'grey')    \n",
    "    plt.plot(_res['t'],_res['a'][:,ii], 'o', ms =marker_size, label = labels[ii])\n",
    "    if 'parab' in scheme:\n",
    "        plt.plot(_res['t_c'],_res['a_c'][:,ii],  'o', ms =marker_size, label = labels[ii] + '_c')\n",
    "plt.grid()\n",
    "plt.legend()\n",
    "plt.title('q and theta accelerations in X')"
   ]
  },
  {
   "cell_type": "code",
   "execution_count": null,
   "id": "a3fa18c5",
   "metadata": {},
   "outputs": [],
   "source": [
    "plt.figure(figsize=[14,8])\n",
    "labels= ['q_jerk', 'theta_jerk']\n",
    "for ii in range(2):\n",
    "    plt.plot(t_interp, j_interp[:,ii], c = 'grey')\n",
    "    plt.plot(_res['t'],_res['jerk'][:,ii],  'o', ms =marker_size, label = labels[ii])\n",
    "    if 'parab' in scheme:\n",
    "        plt.plot(_res['t_c'],_res['jerk_c'][:,ii],  'o', ms =marker_size, label = labels[ii] + '_c')\n",
    "plt.grid()\n",
    "plt.legend()\n",
    "plt.title('q and theta Jerk in $ \\dot{X} $')"
   ]
  },
  {
   "cell_type": "code",
   "execution_count": null,
   "id": "b8d32a3f",
   "metadata": {},
   "outputs": [],
   "source": [
    "plt.figure(figsize=[14,8])\n",
    "labels= ['q_dot', 'theta_dot']\n",
    "for ii in range(2):\n",
    "    plt.plot(t_interp, q_d_interp[:,ii], c = 'grey')\n",
    "    plt.plot(_res['t'],_res['v'][:,ii], 'o', ms =marker_size, label = labels[ii])\n",
    "    if 'parab' in scheme: \n",
    "        plt.plot(_res['t_c'],_res['v_c'][:,ii], 'o', ms =marker_size, label = labels[ii] + '_c')\n",
    "plt.grid()\n",
    "plt.legend()\n",
    "plt.title('q and theta interpolation first derivatives')"
   ]
  },
  {
   "cell_type": "code",
   "execution_count": null,
   "id": "d11be795",
   "metadata": {},
   "outputs": [],
   "source": [
    "plt.figure(figsize=[14,8])\n",
    "labels= ['q_dot_dot', 'theta_dot_dot']\n",
    "for ii in range(2):\n",
    "    plt.plot(t_interp, q_dd_interp[:,ii], c = 'grey')\n",
    "    plt.plot(_res['t'],_res['a'][:,ii], 'o', ms =marker_size, label = labels[ii])\n",
    "    if 'parab' in scheme: \n",
    "        plt.plot(_res['t_c'],_res['a_c'][:,ii], 'o', ms =marker_size, label = labels[ii] + '_c')\n",
    "plt.grid()\n",
    "plt.legend()\n",
    "plt.title('q and theta interpolation second derivatives')"
   ]
  },
  {
   "cell_type": "code",
   "execution_count": null,
   "id": "d5daa339",
   "metadata": {},
   "outputs": [],
   "source": [
    "plt.figure(figsize=[14,8])\n",
    "labels= ['q_dot_dot_dot', 'theta_dot_dot_dot']\n",
    "for ii in range(2):\n",
    "    plt.plot(t_interp, q_ddd_interp[:,ii], c = 'grey')\n",
    "    plt.plot(_res['t'],_res['jerk'][:,ii], 'o', ms =marker_size, label = labels[ii])\n",
    "    if 'parab' in scheme: \n",
    "        plt.plot(_res['t_c'],_res['jerk_c'][:,ii], 'o', ms =marker_size, label = labels[ii] + '_c')\n",
    "plt.grid()\n",
    "plt.legend()\n",
    "plt.title('q and theta interpolation third derivatives')"
   ]
  },
  {
   "cell_type": "code",
   "execution_count": null,
   "id": "f042d4d2",
   "metadata": {},
   "outputs": [],
   "source": [
    "plt.figure(figsize=[14,8])\n",
    "for ii in [2]:\n",
    "    plt.plot(t_interp, a_interp[:,ii], c = 'grey')\n",
    "    plt.plot(_res['t'],_res['a'][:,ii], 'o', ms =marker_size, label = 'u_0')\n",
    "    if 'parab' in scheme:\n",
    "        plt.plot(_res['t_c'],_res['a_c'][:,ii],  'o', ms =marker_size, label = ' u_c')\n",
    "plt.grid()\n",
    "plt.legend()\n",
    "plt.title('u as component of X')"
   ]
  },
  {
   "cell_type": "code",
   "execution_count": null,
   "id": "8ad5ab42",
   "metadata": {},
   "outputs": [],
   "source": [
    "plt.figure(figsize=[14,8])\n",
    "for ii in [2]:\n",
    "    plt.plot(t_interp, j_interp[:,ii], c = 'grey')\n",
    "    plt.plot(_res['t'],_res['jerk'][:,ii],  'o', ms =marker_size, label = 'du_0')\n",
    "    if 'parab' in scheme:\n",
    "        plt.plot(_res['t_c'],_res['jerk_c'][:,ii],  'o', ms =marker_size, label = 'du_c')\n",
    "plt.grid()\n",
    "plt.legend()\n",
    "plt.title('u_dot as component of $\\dot{X}$')"
   ]
  },
  {
   "cell_type": "code",
   "execution_count": null,
   "id": "f5728108",
   "metadata": {},
   "outputs": [],
   "source": [
    "plt.figure(figsize=[14,8])\n",
    "plt.plot(_res['t'],_res['u'][:],  'o', ms =marker_size, label = 'w')\n",
    "plt.plot(t_interp, u_interp[:], c = 'grey')\n",
    "if 'parab' in scheme:\n",
    "    plt.plot(_res['t_c'],_res['u_c'][:],  'o', ms =marker_size, label = 'w_c')\n",
    "plt.grid()\n",
    "plt.legend()\n",
    "\n",
    "plt.title('u_dot as w in control')"
   ]
  },
  {
   "cell_type": "markdown",
   "id": "a5ae09d7",
   "metadata": {},
   "source": [
    "## Sistematic comparison of schemes for different values of N\n",
    "\n",
    "Now let's solve the problem with different methods.\n",
    "\n",
    "### Caution!\n",
    "\n",
    "Executing the next cell may require some time!"
   ]
  },
  {
   "cell_type": "code",
   "execution_count": null,
   "id": "20e81b2c",
   "metadata": {},
   "outputs": [],
   "source": [
    "schemes = ['hs_parab', 'hsn_parab', 'trapz', 'trapz_n'] #If you defined a custom function, name your scheme here\n",
    "initials = ['lin']\n",
    "solve_repetitions = 10 #Increase this number to get more reliable values of execution times\n",
    "N_arr = [20, 25, 30, 40, 50]#, 60, 80, 100, 120, 160, 200]# You can increase the numbers here, but it will take more time\n",
    "results = {}\n",
    "\n",
    "for scheme in schemes:\n",
    "    key = scheme\n",
    "    print('Problem:', key)\n",
    "    results[key] = {'N_arr':N_arr}\n",
    "    for N in N_arr:\n",
    "        print(f'\\tN = {N} , ', time.strftime('%H:%M:%S ', time.localtime(time.time())))\n",
    "        results[key][N] = casadi_cartpole_w(\n",
    "            scheme,\n",
    "            N, \n",
    "            'lin',\n",
    "            solve_repetitions=solve_repetitions,\n",
    "            silent=True, \n",
    "            verbose=False)\n"
   ]
  },
  {
   "cell_type": "markdown",
   "id": "efafa086",
   "metadata": {},
   "source": [
    "### Checking the difference in jerk and acceleration"
   ]
  },
  {
   "cell_type": "code",
   "execution_count": null,
   "id": "0c7b3b31",
   "metadata": {},
   "outputs": [],
   "source": [
    "plot_n = 5000\n",
    "t_interp = np.linspace(0, 2, plot_n)\n",
    "marker_size = 5\n",
    "N = 25\n",
    "dt = (_res['t'][-1]-_res['t'][0])/N\n",
    "\n",
    "#HS1\n",
    "\n",
    "_res = results['hs_parab'][N]\n",
    "u_scheme = 'parab'\n",
    "sch_param = {\n",
    "    'u_c':_res['u_c'],\n",
    "    \"x_dot_c\":_res['x_d_c'],\n",
    "    \"order\":3}\n",
    "\n",
    "q_dd_interp_hs1 = interpolated_array_derivative(\n",
    "    X = _res['x'],\n",
    "    U = _res['u'],\n",
    "    h = dt,\n",
    "    t_array = t_interp,\n",
    "    params = params,\n",
    "    F=F_nump_w,\n",
    "    X_dot=_res['x_d'],\n",
    "    scheme= 'hs_parab',\n",
    "    order=2,\n",
    "    scheme_params=sch_param,)[:, :3]\n",
    "\n",
    "q_ddd_interp_hs1 = interpolated_array_derivative(\n",
    "    X = _res['x'],\n",
    "    U = _res['u'],\n",
    "    h = dt,\n",
    "    t_array = t_interp,\n",
    "    params = params,\n",
    "    F=F_nump_w,\n",
    "    X_dot=_res['x_d'],\n",
    "    scheme= 'hs_parab',\n",
    "    order=3,\n",
    "    scheme_params=sch_param,)[:, :3]\n",
    "\n",
    "#HS3\n",
    "\n",
    "_res = results['hsn_parab'][N]\n",
    "u_scheme = 'parab'\n",
    "sch_param = {\n",
    "    'u_c':_res['u_c'],\n",
    "    \"x_dot_c\":_res['x_d_c'],\n",
    "    \"order\":3}\n",
    "\n",
    "q_dd_interp_hs3 = interpolated_array_derivative(\n",
    "    X = _res['x'],\n",
    "    U = _res['u'],\n",
    "    h = dt,\n",
    "    t_array = t_interp,\n",
    "    params = params,\n",
    "    F=F_nump_w,\n",
    "    X_dot=_res['x_d'],\n",
    "    scheme= 'hsn_parab',\n",
    "    order=2,\n",
    "    scheme_params=sch_param,)[:, :3]\n",
    "\n",
    "q_ddd_interp_hs3 = interpolated_array_derivative(\n",
    "    X = _res['x'],\n",
    "    U = _res['u'],\n",
    "    h = dt,\n",
    "    t_array = t_interp,\n",
    "    params = params,\n",
    "    F=F_nump_w,\n",
    "    X_dot=_res['x_d'],\n",
    "    scheme= 'hsn_parab',\n",
    "    order=3,\n",
    "    scheme_params=sch_param,)[:, :3]\n",
    "\n",
    "\n",
    "schemes_label = ['HS-1', 'HS-3']\n",
    "schemes_plot = ['hs', 'hsn']\n",
    "y_plot_list = [q_ddd_interp_hs1[:,0], q_ddd_interp_hs3[:,0]]\n",
    "y_plot_list_2 = [q_dd_interp_hs1[:,0], q_dd_interp_hs3[:,0]]\n",
    "plots = [y_plot_list, y_plot_list_2]\n",
    "y_labels = [\"Jerk of $q_1, m/s^3$\",\"Acceleration of $q_1, m/s^2$\"]\n",
    "_dd = [\"ddd\", \"dd\"]\n",
    "\n",
    "for kk in range(2):\n",
    "    plt.figure(figsize=oct_fig_size)\n",
    "    plot_coll_p = False\n",
    "    for ii in range(2):\n",
    "\n",
    "        t_arr = t_interp\n",
    "        interv_n = (N * t_arr) / _res[\"t\"][-1]\n",
    "        cut_p = 0\n",
    "        y_plot = plots[kk][ii]\n",
    "        scheme = schemes_plot[ii]\n",
    "        label = schemes_label[ii]\n",
    "        name = label.replace('HS', 'Hermite-Simpson')\n",
    "        for ll in range(1, N + 1):\n",
    "            jj = np.searchsorted(interv_n, ll)\n",
    "            plt.plot(\n",
    "                t_arr[cut_p:jj],\n",
    "                y_plot[cut_p:jj],\n",
    "                \"-\",\n",
    "                lw=2,\n",
    "                c=sch_to_color(scheme),\n",
    "                label=label if cut_p == 0 else None,\n",
    "            )\n",
    "            cut_p = jj\n",
    "    if \"hs\" in scheme:\n",
    "        plot_coll_p = True\n",
    "    plt.plot(\n",
    "        _res[\"t\"],\n",
    "        np.zeros(N + 1),\n",
    "        \"ok\",\n",
    "        ms=5,\n",
    "        label=\"knot & collocation points\",\n",
    "    )\n",
    "    if plot_coll_p:\n",
    "        plt.plot(\n",
    "            _res[\"t_c\"],\n",
    "            np.zeros(N),\n",
    "            \"ow\",\n",
    "            ms=5,\n",
    "            markeredgecolor=\"k\",\n",
    "            label=\"collocation points\",\n",
    "        )\n",
    "    plt.legend()\n",
    "    plt.grid()\n",
    "    # plt.ylim([-0.01,y_max_list[ii]])\n",
    "    plt.title(f\"$\\{_dd[kk]}\"+\"ot{q}_1$ of Hermite Simpson schemes\")\n",
    "    plt.xlabel(\"Time(s)\")\n",
    "    plt.ylabel(y_labels[kk])\n",
    "    plt.tight_layout(pad=0.0)\n",
    "    # If you are running the notebook locally and want to save the plots,\n",
    "    # uncomment the next line\n",
    "    # plt.savefig(f'2d_order/Cartpole_deriv_q{_dd[kk]}_HS_schemes_N_{N}.eps', format='eps')"
   ]
  },
  {
   "cell_type": "code",
   "execution_count": null,
   "id": "12f9afee",
   "metadata": {},
   "outputs": [],
   "source": [
    "#Calculating the number of collocation points\n",
    "for scheme in results.keys():\n",
    "    if 'hs' in scheme:\n",
    "        n_coll = np.array(results[scheme]['N_arr'])*2-1\n",
    "        results[scheme]['N_coll_arr'] = n_coll\n",
    "    else:\n",
    "        results[scheme]['N_coll_arr'] = results[scheme]['N_arr']"
   ]
  },
  {
   "cell_type": "code",
   "execution_count": null,
   "id": "0eaaf924",
   "metadata": {},
   "outputs": [],
   "source": [
    "for scheme in schemes:\n",
    "    key = scheme\n",
    "    _c = []\n",
    "    _cpudt = []\n",
    "    _iters = []\n",
    "    for N in results[key]['N_arr']:\n",
    "        _c.append(results[key][N]['cost'])\n",
    "        _cpudt.append(results[key][N]['cpudt'])\n",
    "        _iters.append(results[key][N]['iter_count'])\n",
    "    results[key]['cost'] = np.array(_c)\n",
    "    results[key]['cpudt'] = np.array(_cpudt)\n",
    "    results[key]['iter_count'] = np.array(_iters)"
   ]
  },
  {
   "cell_type": "markdown",
   "id": "81eeaee4",
   "metadata": {},
   "source": [
    "## Dynamic Error\n",
    "\n",
    "Now we can compute the dynamic errors for each case"
   ]
  },
  {
   "cell_type": "code",
   "execution_count": null,
   "id": "6f4beebc",
   "metadata": {},
   "outputs": [],
   "source": [
    "def total_state_error(t_arr, dyn_err):\n",
    "    errors = np.trapz(np.abs(dyn_err), t_arr, axis=0)\n",
    "    return errors"
   ]
  },
  {
   "cell_type": "code",
   "execution_count": null,
   "id": "fc60f75f",
   "metadata": {
    "scrolled": false
   },
   "outputs": [],
   "source": [
    "#schemes = ['hs_parab', 'hsn_parab', 'trapz', 'trapz_n']\n",
    "n_interp = 2000\n",
    "for scheme in schemes:\n",
    "    key = scheme \n",
    "    print('Problem:', key)\n",
    "    N_arr = results[key]['N_arr']\n",
    "    for N in N_arr:\n",
    "        print(f'\\tN = {N}')\n",
    "        if 'parab' in scheme:\n",
    "            u_scheme = 'parab'\n",
    "            sch_param = {'u_c':results[key][N]['u_c']}\n",
    "        else:\n",
    "            u_scheme = 'lin'\n",
    "            sch_param = {}\n",
    "        dynamic_errors = dynamic_error(\n",
    "            results[key][N]['x'],\n",
    "            results[key][N]['u'],\n",
    "            2,\n",
    "            params,\n",
    "            F_nump_w,\n",
    "            scheme = scheme,\n",
    "            u_scheme= u_scheme,\n",
    "            scheme_params= sch_param,\n",
    "            n_interp = n_interp,\n",
    "            order=3,\n",
    "            mode='q')\n",
    "        dyn_err_q = dynamic_errors[0][0]\n",
    "        dyn_err_v = dynamic_errors[0][1]\n",
    "        dyn_err_2 = dynamic_errors[1][0]\n",
    "        dyn_err_3 = dynamic_errors[2][0]\n",
    "        results[key][N]['dyn_err_q'] = dyn_err_q\n",
    "        results[key][N]['dyn_err_v'] = dyn_err_v\n",
    "        results[key][N]['dyn_err_2'] = dyn_err_2\n",
    "        results[key][N]['dyn_err_3'] = dyn_err_3\n",
    "        t_arr = np.linspace(0,2, n_interp)\n",
    "        tot_dyn_err_q = total_state_error(t_arr, dyn_err_q)\n",
    "        tot_dyn_err_v = total_state_error(t_arr, dyn_err_v)\n",
    "        tot_dyn_err_2 = total_state_error(t_arr, dyn_err_2)\n",
    "        tot_dyn_err_3 = total_state_error(t_arr, dyn_err_3)\n",
    "        results[key][N]['err_q_int'] = dyn_err_q\n",
    "        results[key][N]['err_v_int'] = dyn_err_v\n",
    "        results[key][N]['err_2_int'] = dyn_err_2\n",
    "        results[key][N]['err_3_int'] = dyn_err_3\n",
    "        results[key][N]['err_q'] = tot_dyn_err_q\n",
    "        results[key][N]['err_v'] = tot_dyn_err_v\n",
    "        results[key][N]['err_2'] = tot_dyn_err_2\n",
    "        results[key][N]['err_3'] = tot_dyn_err_3\n",
    "            "
   ]
  },
  {
   "cell_type": "code",
   "execution_count": null,
   "id": "5d42c6ae",
   "metadata": {},
   "outputs": [],
   "source": [
    "def arr_mod(x):\n",
    "    x_1 = np.sum(x*x, axis=1)\n",
    "    return np.sqrt(x_1)\n",
    "def arr_sum(x):\n",
    "    return np.sum(np.abs(x), axis = 1)\n",
    "def arr_max(x):\n",
    "    return np.max(np.abs(x), axis = 1)"
   ]
  },
  {
   "cell_type": "code",
   "execution_count": null,
   "id": "1feef419",
   "metadata": {},
   "outputs": [],
   "source": [
    "for key in results.keys():\n",
    "    print('Problem:', key)\n",
    "    N_arr = results[key]['N_arr']\n",
    "    err_q_acum = []\n",
    "    err_v_acum = []\n",
    "    err_3_acum = []\n",
    "    cpudt = []\n",
    "    for N in N_arr:\n",
    "        err_q_acum.append(results[key][N]['err_q'])\n",
    "        err_v_acum.append(results[key][N]['err_v'])\n",
    "        err_3_acum.append(results[key][N]['err_3'])\n",
    "    results[key]['err_q_acum'] = np.array(err_q_acum, dtype = float)\n",
    "    results[key]['err_v_acum'] = np.array(err_v_acum, dtype = float)\n",
    "    results[key]['err_3_acum'] = np.array(err_3_acum, dtype = float)\n",
    "    "
   ]
  },
  {
   "cell_type": "code",
   "execution_count": null,
   "id": "1407b9ff",
   "metadata": {},
   "outputs": [],
   "source": [
    "for key in results.keys():\n",
    "    print('Problem:', key)\n",
    "    N_arr = results[key]['N_arr']\n",
    "    for N in N_arr:\n",
    "        print(f'\\tN = {N}')\n",
    "        _case = results[key][N]\n",
    "        t_arr = np.linspace(0,\n",
    "                        _case['t'][-1],\n",
    "                        _case['dyn_err_3'].shape[0])\n",
    "        \n",
    "        if 'hs' in key:\n",
    "            scheme_params={'u_c':_case['u_c'],\n",
    "                          'x_dot_c': _case['x_d_c'],\n",
    "                          'x_c': _case['x_c'],\n",
    "                          'order': 3}\n",
    "        else:\n",
    "            scheme_params={'order': 3}\n",
    "            \n",
    "        _derivs = interpolated_array_derivative(\n",
    "            _case['x'],\n",
    "            _case['u'],\n",
    "            _case['t'][-1]/(_case['t'].shape[0]-1),\n",
    "            t_array = t_arr,\n",
    "            params=params,\n",
    "            F=None,\n",
    "            X_dot=_case['x_d'],\n",
    "            scheme=key,\n",
    "            order=1,\n",
    "            scheme_params=scheme_params,)\n",
    "        _accels = _derivs[:, 6:]\n",
    "        \n",
    "        #_case[f'sum_dyn_err_2_arr'] = arr_sum(_case['dyn_err_2']) # NOT VALID\n",
    "        _case[f'sum_dyn_err_3_arr'] = None\n",
    "        _case['a_arr'] = _accels\n",
    "        _case['a_abs_mean_by_component'] = np.mean(np.abs(_accels), axis = 0)\n",
    "        _case['a_abs_mean'] = np.mean(np.abs(_accels))\n",
    "        #_case['a_abs_sum_arr'] = arr_sum(_accels) # NOT VALID\n",
    "        _case['a_abs_sum_arr'] = None\n",
    "        \n",
    "        _case['rel_dyn_err_3_arr_by_instant_a_sum'] = arr_sum(_case['dyn_err_3']/_case['a_arr'])\n",
    "        _case['rel_dyn_err_3_arr_by_total_mean_sum'] = None\n",
    "        _case['rel_dyn_err_3_arr_by_mean_by_component_sum'] = arr_sum(_case['dyn_err_3']/_case['a_abs_mean_by_component'])\n",
    "        _case['rel_dyn_err_3_arr_by_a_sum_arr_sum'] = None"
   ]
  },
  {
   "cell_type": "code",
   "execution_count": null,
   "id": "831192df",
   "metadata": {},
   "outputs": [],
   "source": [
    "from chords.util import plot_by_segments"
   ]
  },
  {
   "cell_type": "code",
   "execution_count": null,
   "id": "055e9d18",
   "metadata": {},
   "outputs": [],
   "source": [
    "schemes = ['trapz', 'trapz_n']\n",
    "N = 50\n",
    "for component in range(2):\n",
    "    plot_by_segments(results, schemes, N,\n",
    "        thing_to_plot = 'dyn_err_q',\n",
    "        title = r'Cartpole: Dynamic error $\\varepsilon^{[1]}_{q_'+f'{component+1}}}$, N = {N}',\n",
    "        ylabel = 'Dynamic error $(rad/s^2)$',\n",
    "        component = component)\n",
    "    # If you are running the notebook locally and want to save the plots,\n",
    "    # uncomment the next line\n",
    "    #plt.savefig(f'2d_order/Cartpole_deriv_First_Order_Dynamic_Error_q_{component+1}_TZ_schemes_N_{N}.eps', format='eps')"
   ]
  },
  {
   "cell_type": "code",
   "execution_count": null,
   "id": "16bc26ec",
   "metadata": {},
   "outputs": [],
   "source": [
    "schemes = ['hsn_parab','hs_parab']\n",
    "N = 25\n",
    "for component in range(2):\n",
    "    plot_by_segments(results, schemes, N,\n",
    "        thing_to_plot = 'dyn_err_q',\n",
    "        title = r'Cartpole: Dynamic error $\\varepsilon^{[1]}_{q_'+f'{component+1}}}$, N = {N}',\n",
    "        ylabel = 'Dynamic error $(rad/s^2)$',\n",
    "        component = component)\n",
    "    # If you are running the notebook locally and want to save the plots,\n",
    "    # uncomment the next line\n",
    "    #plt.savefig(f'2d_order/Cartpole_deriv_First_Order_Dynamic_Error_q_{component+1}_HS_schemes_N_{N}.eps', format='eps')"
   ]
  },
  {
   "cell_type": "code",
   "execution_count": null,
   "id": "ee81cc92",
   "metadata": {},
   "outputs": [],
   "source": [
    "schemes = ['hsn_parab','hs_parab']\n",
    "N = 25\n",
    "for component in range(2):\n",
    "    plot_by_segments(results, schemes, N,\n",
    "        thing_to_plot = 'dyn_err_2',\n",
    "        title = r'Cartpole: Dynamic error $\\varepsilon^{[2]}_{q_'+f'{component+1}}}$, N = {N}',\n",
    "        ylabel = 'Dynamic error $(rad/s^2)$',\n",
    "        component = component)\n",
    "    # If you are running the notebook locally and want to save the plots,\n",
    "    # uncomment the next line\n",
    "    #plt.savefig(f'2d_order/Cartpole_deriv_Second_Order_Dynamic_Error_q_{component+1}_HS_schemes_N_{N}.eps', format='eps')"
   ]
  },
  {
   "cell_type": "code",
   "execution_count": null,
   "id": "d54445d9",
   "metadata": {},
   "outputs": [],
   "source": [
    "schemes = ['trapz', 'trapz_n']\n",
    "N = 50\n",
    "for component in range(2):\n",
    "    plot_by_segments(results, schemes, N,\n",
    "        thing_to_plot = 'dyn_err_2',\n",
    "        title = r'Cartpole: Dynamic error $\\varepsilon^{[2]}_{q_'+f'{component+1}}}$, N = {N}',\n",
    "        ylabel = 'Dynamic error $(rad/s^2)$',\n",
    "        component = component)\n",
    "    # If you are running the notebook locally and want to save the plots,\n",
    "    # uncomment the next line\n",
    "    #plt.savefig(f'2d_order/Cartpole_deriv_Second_Order_Dynamic_Error_q_{component+1}_TZ_schemes_N_{N}.eps', format='eps')"
   ]
  },
  {
   "cell_type": "code",
   "execution_count": null,
   "id": "16799652",
   "metadata": {},
   "outputs": [],
   "source": [
    "data_array = ['err_q_acum','err_v_acum','err_3_acum','cpudt']\n",
    "schemes = ['trapz', 'trapz_n','hs_parab', 'hsn_parab',]\n",
    "\n",
    "data_key = data_array[2]\n",
    "\n",
    "for qq in range(2):\n",
    "    plt.figure(figsize=oct_fig_size)\n",
    "    plt.title(r'$3^{rd}$ order Cart-pole: integrated dynamic error $\\int\\varepsilon_{q_'+f'{qq+1}}}$')\n",
    "    for key in schemes:\n",
    "        N_arr = results[key]['N_arr']\n",
    "        if len(results[key][data_key].shape) == 1:\n",
    "            plt.plot(N_arr,\n",
    "             results[key][data_key],\n",
    "             **scheme_kwargs(key, longlabel=False))\n",
    "        else:\n",
    "            plt.plot(N_arr,\n",
    "             results[key][data_key][:,qq],\n",
    "             **scheme_kwargs(key, longlabel=False))\n",
    "    plt.yscale('log')\n",
    "    plt.xscale('log')\n",
    "    ticks = np.array(results[key]['N_arr'])\n",
    "    plt.xticks(ticks, labels=ticks)\n",
    "    plt.xlabel('Number of intervals (log scale)')\n",
    "    plt.grid()\n",
    "    plt.legend()\n",
    "    units = 'm/s^2' if qq == 0 else'rad/s^2'\n",
    "    plt.ylabel(f'Dynamic error $({units})$')\n",
    "    plt.tight_layout(pad = 0.0)\n",
    "    # If you are running the notebook locally and want to save the plots,\n",
    "    # uncomment the next line\n",
    "    #plt.savefig(f'2d_order/Cartpole_deriv_Integrated_Second_Order_Dynamic_Error_q_{qq+1}_vs_N.eps', format='eps')"
   ]
  },
  {
   "cell_type": "code",
   "execution_count": null,
   "id": "b22349e7",
   "metadata": {},
   "outputs": [],
   "source": [
    "schemes = ['hsn_parab','hs_parab', 'trapz', 'trapz_n']\n",
    "titles = ['Nth order Hermite Simpson', 'Hermite Simpson','Trapezoidal', 'Nth order Trapezoidal']\n",
    "plt.figure(figsize=[10,6])\n",
    "for ii in [2,3,1,0]:\n",
    "    key = schemes[ii]\n",
    "    plt.plot(results[key]['N_arr'],\n",
    "             results[key][f'cpudt'],\n",
    "             **scheme_kwargs(key, longlabel=False))\n",
    "plt.grid()\n",
    "plt.legend()\n",
    "plt.title('$3^{rd}$ order Cart-pole: Optimization time')\n",
    "plt.xlabel('Number of intervals')\n",
    "plt.ylabel('Time (s)')\n",
    "plt.tight_layout(pad = 0.0)\n",
    "# If you are running the notebook locally and want to save the plots,\n",
    "# uncomment the next line\n",
    "#plt.savefig(f'2d_order/Cartpole_deriv_optimization_time_vs_interval_number.eps', format='eps')"
   ]
  },
  {
   "cell_type": "code",
   "execution_count": null,
   "id": "0784f119",
   "metadata": {},
   "outputs": [],
   "source": [
    "# Here we print the data shown in Table II of the paper\n",
    "for scheme in ['trapz', 'trapz_n', 'hs_parab', 'hsn_parab']:\n",
    "    key = scheme \n",
    "    #for N in [25,50]:#results[key]['N_arr']:\n",
    "    N = 25 if 'hs' in scheme else 50\n",
    "    print('scheme:', scheme, 'N:', N,'\\n\\ttime:', results[key][N][f'cpudt'],\n",
    "              '\\n\\tErr 1:', results[key][N]['err_q'], '\\n\\tErr 3:', results[key][N]['err_3'])"
   ]
  },
  {
   "cell_type": "markdown",
   "id": "adcf21d8",
   "metadata": {},
   "source": [
    "## Animation"
   ]
  },
  {
   "cell_type": "code",
   "execution_count": null,
   "id": "40f47263",
   "metadata": {},
   "outputs": [],
   "source": [
    "from matplotlib import animation, rc\n",
    "import matplotlib.patches as patches\n",
    "from matplotlib.transforms import Affine2D\n",
    "from IPython.display import HTML\n",
    "import matplotlib\n",
    "matplotlib.rcParams['animation.embed_limit'] = 200"
   ]
  },
  {
   "cell_type": "code",
   "execution_count": null,
   "id": "1a9a84dc",
   "metadata": {},
   "outputs": [],
   "source": [
    "def create_anim(X, U, params):\n",
    "    [g_n, l_n, m0_n, m1_n] = params\n",
    "    \n",
    "    N = X.shape[0]\n",
    "    fig, ax = plt.subplots()\n",
    "    y_scale = 1\n",
    "    min_x_cart = np.min(X[:,0])\n",
    "    max_x_cart = np.max(X[:,0])\n",
    "    cart_displ = max_x_cart-min_x_cart\n",
    "    size_x = 2*y_scale + cart_displ\n",
    "    size_y = 2*y_scale\n",
    "    draw_width = 14\n",
    "    draw_height = draw_width / size_x * size_y\n",
    "    \n",
    "    x_0 = X[:,0]\n",
    "    y_0 = np.zeros_like(x_0)\n",
    "    x_1 = x_0 + l_n*np.sin(X[:,1])\n",
    "    y_1 = y_0 - l_n*np.cos(X[:,1])\n",
    "    \n",
    "    x_cm = (m0_n * x_0 + m1_n * x_1)/(m0_n + m1_n)\n",
    "    y_cm = (m0_n * y_0 + m1_n * y_1)/(m0_n + m1_n)\n",
    "\n",
    "    fig.set_dpi(72)\n",
    "    fig.set_size_inches([draw_width,draw_height])\n",
    "    ax.set_xlim(( min_x_cart-y_scale, max_x_cart+y_scale))\n",
    "    ax.set_ylim(( -y_scale, y_scale))\n",
    "\n",
    "    #circle1 = plt.Circle((0, 0), l_n, color='b', ls = \":\", fill=False)\n",
    "    #ax.add_artist(circle1)\n",
    "    ax.plot([min_x_cart - l_n, max_x_cart + l_n], [0,0], 'k', lw=1, ls = ':')\n",
    "\n",
    "    line1, = ax.plot([], [], lw=2)\n",
    "    line3, = ax.plot([], [], 'k', lw=1, ls = ':')\n",
    "    #line_cm, = ax.plot([], [], 'g', lw=1, ls = ':')\n",
    "    point0, = ax.plot([], [], marker='s', markersize=10, color=\"k\")\n",
    "    point1, = ax.plot([], [], marker='o', markersize=7, color=\"red\")\n",
    "    #point_cm, = ax.plot([], [], marker='o', markersize=10, color=\"green\")\n",
    "    u_max = max(np.max(np.abs(U[:])),1e-15)\n",
    "    arrow_w = 0.1*l_n\n",
    "    arrow_l = 0.7*l_n\n",
    "    u_arrow = patches.Arrow(0, 0, 0, -arrow_l, color = 'gray',width = arrow_w)\n",
    "    ax.add_patch(u_arrow)\n",
    "    \n",
    "    print_vars = [X[:,0], X[:,1], U[:], np.linspace(0, N-1, N, dtype=int)]\n",
    "    print_var_names = ['q_0', 'q_1', 'u_0', 'step']\n",
    "    texts = []\n",
    "    ii = 0.8\n",
    "    for arr in print_vars:\n",
    "        texts.append(ax.text(-0.8, ii, \"\", fontsize = 12))\n",
    "        ii -= 0.2*l_n\n",
    "        \n",
    "    xx_interpolated, uu_interpolated = interpolated_array(\n",
    "        X,\n",
    "        U,\n",
    "        F = F_nump_w,\n",
    "        h = 2/(N-1),\n",
    "        t_array = np.linspace(0, 2, 5*(N-1)+1),\n",
    "        params = params,\n",
    "        scheme = 'hs_parab',\n",
    "        u_scheme = 'parab',\n",
    "        scheme_params = {'u_c' : results['hs_parab'][N-1]['u_c'],\n",
    "                        'order': 3}\n",
    "    )\n",
    "    x_0_interp = xx_interpolated[:,0]\n",
    "    y_0_interp = np.zeros_like(x_0_interp)\n",
    "    x_1_interp = x_0_interp + l_n*np.sin(xx_interpolated[:,1])\n",
    "    y_1_interp = y_0_interp - l_n*np.cos(xx_interpolated[:,1])\n",
    "    \n",
    "    def init():\n",
    "        line1.set_data([], [])\n",
    "        line3.set_data([], [])\n",
    "        #line_cm.set_data([], [])\n",
    "        point1.set_data([], [])\n",
    "        #circle1.center = (0, 0)\n",
    "        return (line1,)\n",
    "    def animate(i):\n",
    "        #circle1.center = (x_0[i], y_0[i])\n",
    "        point0.set_data(x_0[i], y_0[i])\n",
    "        line1.set_data([x_0[i], x_1[i]], [y_0[i], y_1[i]])    \n",
    "        point1.set_data(x_1[i], y_1[i])\n",
    "        #point_cm.set_data(x_cm[i], y_cm[i])\n",
    "        line3.set_data(x_1_interp[:5*i+1], y_1_interp[:5*i+1])\n",
    "        #line_cm.set_data(x_cm[:i], y_cm[:i])\n",
    "        trans = Affine2D()\n",
    "        u_arrow._patch_transform = trans.scale(U[i] * arrow_l / u_max, arrow_w).translate(x_0[i],0)\n",
    "        for ii in range(len(texts)):\n",
    "            text = texts[ii]\n",
    "            name = print_var_names[ii]\n",
    "            arr = print_vars[ii]\n",
    "            if name == 'step':\n",
    "                text.set_text(\"$step$ = \" + str(arr[i]))\n",
    "            else:\n",
    "                text.set_text(\"$\" + name + \"$ = %.3f\" % arr[i])\n",
    "        return (line1,u_arrow)\n",
    "    frame_indices = np.concatenate((np.zeros(10, dtype=int), np.arange(0, N, 1), np.ones(15, dtype=int)*(N-1)))\n",
    "    anim = animation.FuncAnimation(fig, animate, init_func=init,\n",
    "                               frames=frame_indices, interval=20, \n",
    "                               blit=True)\n",
    "    return anim"
   ]
  },
  {
   "cell_type": "code",
   "execution_count": null,
   "id": "9eac446a",
   "metadata": {},
   "outputs": [],
   "source": [
    "anim = create_anim(results['hs_parab'][25]['x'], results['hs_parab'][25]['a'][:,2], params)"
   ]
  },
  {
   "cell_type": "code",
   "execution_count": null,
   "id": "4f695f99",
   "metadata": {},
   "outputs": [],
   "source": [
    "HTML(anim.to_jshtml())"
   ]
  },
  {
   "cell_type": "code",
   "execution_count": null,
   "id": "b485a7cd",
   "metadata": {},
   "outputs": [],
   "source": [
    "f = r\"cartpole_animation.mp4\" \n",
    "writervideo = animation.FFMpegWriter(fps=12) \n",
    "# If you are running the notebook locally and want to save the animation,\n",
    "# uncomment the next line\n",
    "#anim.save(f, writer=writervideo)"
   ]
  },
  {
   "cell_type": "code",
   "execution_count": null,
   "id": "1c37d699",
   "metadata": {},
   "outputs": [],
   "source": []
  },
  {
   "cell_type": "code",
   "execution_count": null,
   "id": "48e5cbec",
   "metadata": {},
   "outputs": [],
   "source": []
  },
  {
   "cell_type": "code",
   "execution_count": null,
   "id": "d8eae48a",
   "metadata": {},
   "outputs": [],
   "source": []
  }
 ],
 "metadata": {
  "kernelspec": {
   "display_name": "Python 3 (ipykernel)",
   "language": "python",
   "name": "python3"
  },
  "language_info": {
   "codemirror_mode": {
    "name": "ipython",
    "version": 3
   },
   "file_extension": ".py",
   "mimetype": "text/x-python",
   "name": "python",
   "nbconvert_exporter": "python",
   "pygments_lexer": "ipython3",
   "version": "3.9.15"
  }
 },
 "nbformat": 4,
 "nbformat_minor": 5
}
